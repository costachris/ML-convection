{
 "cells": [
  {
   "cell_type": "markdown",
   "metadata": {
    "collapsed": false
   },
   "source": [
    "## Import and preprocess datasets"
   ]
  },
  {
   "cell_type": "code",
   "execution_count": 1,
   "metadata": {
    "collapsed": false
   },
   "outputs": [],
   "source": [
    "import numpy as np\n",
    "from netCDF4 import Dataset\n",
    "import matplotlib as mpl\n",
    "import matplotlib.pyplot as plt\n",
    "import matplotlib.pylab as pylab\n",
    "from sklearn.ensemble.forest import RandomForestRegressor, RandomForestClassifier\n",
    "import os\n",
    "from sklearn import preprocessing, metrics\n",
    "from importlib import reload\n",
    "import sknn.mlp\n",
    "from sklearn import tree  #for graphing random forest tree\n",
    "import pickle\n",
    "%matplotlib inline\n",
    "pylab.rcParams['figure.figsize'] = (10, 6)\n",
    "inline_rc = dict(mpl.rcParams)\n",
    "import src.nnload as nnload\n",
    "import src.nntrain as nntrain\n",
    "import src.nnplot as nnplot\n",
    "\n",
    "# Set script parameters\n",
    "minlev = 0.0\n",
    "rainonly = False\n",
    "write_nn_to_netcdf = False\n",
    "fig_dir = './figs/'\n",
    "data_dir = './data/'"
   ]
  },
  {
   "cell_type": "code",
   "execution_count": 2,
   "metadata": {
    "collapsed": false
   },
   "outputs": [
    {
     "name": "stderr",
     "output_type": "stream",
     "text": [
      "/Users/jgdwyer/Dropbox (MIT)/scripts/nn/src/nnload.py:69: UserWarning: Shifting inputs and outputs one time step so they line up!\n",
      "  warnings.warn(\"Shifting inputs and outputs one time step so they line up!\")\n"
     ]
    },
    {
     "name": "stdout",
     "output_type": "stream",
     "text": [
      "There is some amount of rain 61.0% of the time\n",
      "There is a rate of >3 mm/day 20.2% of the time\n",
      "There is convection 65.5% of the time\n",
      "(819199, 60)\n",
      "[ 109.14720154]\n",
      "(819199, 60)\n"
     ]
    },
    {
     "ename": "IndexError",
     "evalue": "too many indices for array",
     "output_type": "error",
     "traceback": [
      "\u001b[0;31m---------------------------------------------------------------------------\u001b[0m",
      "\u001b[0;31mIndexError\u001b[0m                                Traceback (most recent call last)",
      "\u001b[0;32m<ipython-input-2-2a559f138f13>\u001b[0m in \u001b[0;36m<module>\u001b[0;34m()\u001b[0m\n\u001b[1;32m      4\u001b[0m                                                        rainonly=rainonly) #,all_lats=False,indlat=8)\n\u001b[1;32m      5\u001b[0m \u001b[0;31m# Preprocess data\u001b[0m\u001b[0;34m\u001b[0m\u001b[0;34m\u001b[0m\u001b[0m\n\u001b[0;32m----> 6\u001b[0;31m \u001b[0mscaler_x\u001b[0m\u001b[0;34m,\u001b[0m \u001b[0mscaler_y\u001b[0m\u001b[0;34m,\u001b[0m \u001b[0mx1\u001b[0m\u001b[0;34m,\u001b[0m \u001b[0mx2\u001b[0m\u001b[0;34m,\u001b[0m \u001b[0mx3\u001b[0m\u001b[0;34m,\u001b[0m \u001b[0my1\u001b[0m\u001b[0;34m,\u001b[0m \u001b[0my2\u001b[0m\u001b[0;34m,\u001b[0m \u001b[0my3\u001b[0m\u001b[0;34m,\u001b[0m \u001b[0mcv1\u001b[0m\u001b[0;34m,\u001b[0m \u001b[0mcv2\u001b[0m\u001b[0;34m,\u001b[0m \u001b[0mcv3\u001b[0m \u001b[0;34m=\u001b[0m \u001b[0mnnload\u001b[0m\u001b[0;34m.\u001b[0m\u001b[0mpp\u001b[0m\u001b[0;34m(\u001b[0m\u001b[0mx\u001b[0m\u001b[0;34m,\u001b[0m \u001b[0my\u001b[0m\u001b[0;34m,\u001b[0m \u001b[0mcv\u001b[0m\u001b[0;34m,\u001b[0m \u001b[0;36m30000\u001b[0m\u001b[0;34m)\u001b[0m\u001b[0;34m\u001b[0m\u001b[0m\n\u001b[0m",
      "\u001b[0;32m/Users/jgdwyer/Dropbox (MIT)/scripts/nn/src/nnload.py\u001b[0m in \u001b[0;36mpp\u001b[0;34m(x, y, cv, num_samples, scaler_x, scaler_y)\u001b[0m\n\u001b[1;32m    128\u001b[0m         \u001b[0my1\u001b[0m\u001b[0;34m,\u001b[0m\u001b[0my2\u001b[0m\u001b[0;34m,\u001b[0m\u001b[0my3\u001b[0m    \u001b[0;34m=\u001b[0m \u001b[0m_pp\u001b[0m\u001b[0;34m(\u001b[0m\u001b[0my\u001b[0m\u001b[0;34m,\u001b[0m  \u001b[0msamples\u001b[0m\u001b[0;34m,\u001b[0m \u001b[0mscaler_y\u001b[0m\u001b[0;34m,\u001b[0m \u001b[0mfit_data\u001b[0m\u001b[0;34m=\u001b[0m\u001b[0;32mFalse\u001b[0m\u001b[0;34m)\u001b[0m\u001b[0;34m\u001b[0m\u001b[0m\n\u001b[1;32m    129\u001b[0m     \u001b[0;31m# We don't need to scale the classification of convection\u001b[0m\u001b[0;34m\u001b[0m\u001b[0;34m\u001b[0m\u001b[0m\n\u001b[0;32m--> 130\u001b[0;31m     \u001b[0mcv1\u001b[0m\u001b[0;34m,\u001b[0m\u001b[0mcv2\u001b[0m\u001b[0;34m,\u001b[0m\u001b[0mcv3\u001b[0m \u001b[0;34m=\u001b[0m \u001b[0m_pp\u001b[0m\u001b[0;34m(\u001b[0m\u001b[0mcv\u001b[0m\u001b[0;34m,\u001b[0m \u001b[0msamples\u001b[0m\u001b[0;34m,\u001b[0m \u001b[0;32mNone\u001b[0m\u001b[0;34m,\u001b[0m \u001b[0mtransform_data\u001b[0m\u001b[0;34m=\u001b[0m\u001b[0;32mFalse\u001b[0m\u001b[0;34m)\u001b[0m\u001b[0;34m\u001b[0m\u001b[0m\n\u001b[0m\u001b[1;32m    131\u001b[0m     \u001b[0;32mreturn\u001b[0m \u001b[0mscaler_x\u001b[0m\u001b[0;34m,\u001b[0m \u001b[0mscaler_y\u001b[0m\u001b[0;34m,\u001b[0m \u001b[0mx1\u001b[0m\u001b[0;34m,\u001b[0m \u001b[0mx2\u001b[0m\u001b[0;34m,\u001b[0m \u001b[0mx3\u001b[0m\u001b[0;34m,\u001b[0m \u001b[0my1\u001b[0m\u001b[0;34m,\u001b[0m \u001b[0my2\u001b[0m\u001b[0;34m,\u001b[0m \u001b[0my3\u001b[0m\u001b[0;34m,\u001b[0m \u001b[0mcv1\u001b[0m\u001b[0;34m,\u001b[0m \u001b[0mcv2\u001b[0m\u001b[0;34m,\u001b[0m \u001b[0mcv3\u001b[0m\u001b[0;34m\u001b[0m\u001b[0m\n\u001b[1;32m    132\u001b[0m \u001b[0;34m\u001b[0m\u001b[0m\n",
      "\u001b[0;32m/Users/jgdwyer/Dropbox (MIT)/scripts/nn/src/nnload.py\u001b[0m in \u001b[0;36m_pp\u001b[0;34m(z, samples, scaler, transform_data, fit_data)\u001b[0m\n\u001b[1;32m    134\u001b[0m     \u001b[0;34m\"\"\"Preprocess data by scaling and splitting it into 3 equally sized samples\"\"\"\u001b[0m\u001b[0;34m\u001b[0m\u001b[0m\n\u001b[1;32m    135\u001b[0m     \u001b[0;31m# Scale data\u001b[0m\u001b[0;34m\u001b[0m\u001b[0;34m\u001b[0m\u001b[0m\n\u001b[0;32m--> 136\u001b[0;31m     \u001b[0mza\u001b[0m\u001b[0;34m=\u001b[0m\u001b[0mnp\u001b[0m\u001b[0;34m.\u001b[0m\u001b[0mreshape\u001b[0m\u001b[0;34m(\u001b[0m\u001b[0mz\u001b[0m\u001b[0;34m[\u001b[0m\u001b[0;34m:\u001b[0m\u001b[0;34m,\u001b[0m\u001b[0;36m0\u001b[0m\u001b[0;34m:\u001b[0m\u001b[0;36m30\u001b[0m\u001b[0;34m]\u001b[0m\u001b[0;34m,\u001b[0m\u001b[0;34m(\u001b[0m\u001b[0;34m-\u001b[0m\u001b[0;36m1\u001b[0m\u001b[0;34m,\u001b[0m\u001b[0;36m1\u001b[0m\u001b[0;34m)\u001b[0m\u001b[0;34m)\u001b[0m\u001b[0;34m\u001b[0m\u001b[0m\n\u001b[0m\u001b[1;32m    137\u001b[0m     \u001b[0mzb\u001b[0m\u001b[0;34m=\u001b[0m\u001b[0mnp\u001b[0m\u001b[0;34m.\u001b[0m\u001b[0mreshape\u001b[0m\u001b[0;34m(\u001b[0m\u001b[0mz\u001b[0m\u001b[0;34m[\u001b[0m\u001b[0;34m:\u001b[0m\u001b[0;34m,\u001b[0m\u001b[0;36m30\u001b[0m\u001b[0;34m:\u001b[0m\u001b[0;36m60\u001b[0m\u001b[0;34m]\u001b[0m\u001b[0;34m,\u001b[0m\u001b[0;34m(\u001b[0m\u001b[0;34m-\u001b[0m\u001b[0;36m1\u001b[0m\u001b[0;34m,\u001b[0m\u001b[0;36m1\u001b[0m\u001b[0;34m)\u001b[0m\u001b[0;34m)\u001b[0m\u001b[0;34m\u001b[0m\u001b[0m\n\u001b[1;32m    138\u001b[0m     \u001b[0mshp\u001b[0m \u001b[0;34m=\u001b[0m \u001b[0mza\u001b[0m\u001b[0;34m.\u001b[0m\u001b[0mshape\u001b[0m\u001b[0;34m\u001b[0m\u001b[0m\n",
      "\u001b[0;31mIndexError\u001b[0m: too many indices for array"
     ]
    }
   ],
   "source": [
    "# Load data\n",
    "reload(nnload)\n",
    "x, y, cv, Pout, lat, lev, dlev, timestep = nnload.loaddata(data_dir + 'nntest.nc', minlev,\n",
    "                                                       rainonly=rainonly) #,all_lats=False,indlat=8)\n",
    "# Preprocess data\n",
    "scaler_x, scaler_y, x1, x2, x3, y1, y2, y3, cv1, cv2, cv3 = nnload.pp(x, y, cv, 30000)"
   ]
  },
  {
   "cell_type": "markdown",
   "metadata": {},
   "source": [
    "## Create, train, evaluate, and store regressors NN's"
   ]
  },
  {
   "cell_type": "code",
   "execution_count": null,
   "metadata": {
    "collapsed": false,
    "scrolled": false
   },
   "outputs": [],
   "source": [
    "# Build, train, and save model\n",
    "from importlib import reload\n",
    "reload(nntrain)\n",
    "batch_size = 100\n",
    "r_mlp, r_str                  = nntrain.build_nn('regress',['Rectifier'],[100],'momentum',batch_size,n_stable=25)\n",
    "                                                # n_stable=25)#, regularize = 'L2', weight_decay = 0.0001)\n",
    "print(r_str)\n",
    "r_mlp, r_errors = nntrain.train_nn(r_mlp,r_str,x1,y1,x2,y2)\n",
    "pickle.dump([r_mlp, r_str, r_errors],  open(data_dir + 'regressors/' + r_str + '_v2.pkl', 'wb'))\n",
    "\n",
    "# Save model in netcdf format if requested\n",
    "if write_nn_to_netcdf:\n",
    "    nnload.write_netcdf_twolayer(r_mlp, 'regress', datadir + 'netcdf_models/' + r_str + '_neural_weights_regressor.nc')"
   ]
  },
  {
   "cell_type": "markdown",
   "metadata": {},
   "source": [
    "## Compare all NNs to each other"
   ]
  },
  {
   "cell_type": "code",
   "execution_count": null,
   "metadata": {
    "collapsed": false
   },
   "outputs": [],
   "source": [
    "# Initialize regressors\n",
    "from importlib import reload\n",
    "reload(nntrain)\n",
    "trained_regressors = ['r_600R_mom0.9reg0.0001','r_600R_mom0.9',\n",
    "                      'r_1200R_mom0.9','r_2400R_mom0.9','r_3600R_mom0.9',\n",
    "                      'r_4800R_mom0.9']\n",
    "N_r = len(trained_regressors)\n",
    "r_mlp = [0]*N_r\n",
    "r_str = [0]*N_r\n",
    "r_errors=np.empty((70000,4,N_r))\n",
    "r_errors[:]=np.NAN\n",
    "\n",
    "# Load regressors\n",
    "for i,r in enumerate(trained_regressors):\n",
    "    r_mlp[i], r_str[i], err = pickle.load(open(data_dir + 'regressors/' + r + '.pkl', 'rb'))\n",
    "    print(len(err))\n",
    "    r_errors[:len(err),:,i]      =  err\n",
    "# Compare them and plot output\n",
    "nntrain.plot_regressors_scores(r_mlp,r_str,x2,y2,fig_dir + 'compare/','r')\n",
    "nntrain.plot_model_error_over_time(r_errors, r_str, fig_dir + 'compare/','r')"
   ]
  },
  {
   "cell_type": "markdown",
   "metadata": {},
   "source": [
    "## Plot test data evaluations"
   ]
  },
  {
   "cell_type": "code",
   "execution_count": null,
   "metadata": {
    "collapsed": false
   },
   "outputs": [],
   "source": [
    "# Load the model we want to do a detailed evaulation for\n",
    "reload(nnplot)\n",
    "r_str_eval = 'r_100R_mom0.9_v2'\n",
    "r_mlp_eval, _, _ = pickle.load(open(data_dir + 'regressors/' + r_str_eval + '.pkl', 'rb'))\n",
    "\n",
    "# Set figure path and create directory if it does not exist\n",
    "figpath = fig_dir + r_str_eval + '/'\n",
    "if not os.path.exists(figpath):\n",
    "    os.makedirs(figpath)\n",
    "    \n",
    "\n",
    "# Inverse transform output back to physical units\n",
    "y3_true = scaler_y.inverse_transform(y2)\n",
    "y3_pred = scaler_y.inverse_transform(r_mlp_eval.predict(x2))\n",
    "\n",
    "# Plot means and standard deviations\n",
    "nnplot.plot_means_stds(y3_true, y3_pred, lev, figpath)\n",
    "\n",
    "# Plot correlation coefficient, explained variance, and rmse\n",
    "nnplot.plot_error_stats(y3_true, y3_pred, lev, figpath)\n",
    "\n",
    "# Plot a time series of precipitaiton\n",
    "nnplot.plot_precip(y3_true, y3_pred, dlev, figpath)\n",
    "\n",
    "# Plot the enthalpy conservation\n",
    "nnplot.plot_enthalpy(y3_true, y3_pred, dlev, figpath)\n",
    "\n",
    "# Plot the rmse vs lat\n",
    "#nnplot.plot_rmse_vs_lat(r_mlp_eval, figpath, data_dir='./data/',minlev=0.0,rainonly=False)\n"
   ]
  },
  {
   "cell_type": "code",
   "execution_count": null,
   "metadata": {
    "collapsed": false,
    "scrolled": true
   },
   "outputs": [],
   "source": [
    "reload(nnplot)\n",
    "reload(nnload)\n",
    "\n",
    "Tmean, qmean, rmseT, rmseq, rT, rq = nnload.stats_by_latlev(scaler_x,scaler_y,r_mlp_eval,lat, lev)"
   ]
  },
  {
   "cell_type": "code",
   "execution_count": null,
   "metadata": {
    "collapsed": false
   },
   "outputs": [],
   "source": [
    "reload(nnplot)\n",
    "nnplot.plot_contour(Tmean,qmean,lat,lev, avg_hem=True)\n",
    "nnplot.plot_contour(rmseT,rmseq,lat,lev, avg_hem=True)\n",
    "nnplot.plot_contour(rT, rq, lat, lev, avg_hem=True)"
   ]
  },
  {
   "cell_type": "code",
   "execution_count": null,
   "metadata": {
    "collapsed": false
   },
   "outputs": [],
   "source": [
    "reload(nnplot)\n",
    "reload(nnload)\n",
    "r_str_eval = 'r_100R_mom0.9_v2'\n",
    "r_mlp_eval, _, _ = pickle.load(open(data_dir + 'regressors/' + r_str_eval + '.pkl', 'rb'))\n",
    "nnplot.make_contour_plots(figpath, scaler_x,scaler_y,r_mlp_eval,lat, lev)"
   ]
  },
  {
   "cell_type": "code",
   "execution_count": null,
   "metadata": {
    "collapsed": false
   },
   "outputs": [],
   "source": [
    "b=np.random.rand(3,6)\n",
    "c=np.reshape(b,-1)\n",
    "print(c)\n",
    "d=np.reshape(c,(3,6))\n",
    "b==d"
   ]
  },
  {
   "cell_type": "code",
   "execution_count": null,
   "metadata": {
    "collapsed": false
   },
   "outputs": [],
   "source": [
    "a=b.shape\n",
    "print(a)"
   ]
  },
  {
   "cell_type": "code",
   "execution_count": 8,
   "metadata": {
    "collapsed": true
   },
   "outputs": [],
   "source": [
    "def foo(a):\n",
    "    def bar(b):\n",
    "        print(b)"
   ]
  },
  {
   "cell_type": "code",
   "execution_count": 11,
   "metadata": {
    "collapsed": false
   },
   "outputs": [
    {
     "ename": "AttributeError",
     "evalue": "'function' object has no attribute 'bar'",
     "output_type": "error",
     "traceback": [
      "\u001b[0;31m---------------------------------------------------------------------------\u001b[0m",
      "\u001b[0;31mAttributeError\u001b[0m                            Traceback (most recent call last)",
      "\u001b[0;32m<ipython-input-11-6aa1a79f4b8f>\u001b[0m in \u001b[0;36m<module>\u001b[0;34m()\u001b[0m\n\u001b[0;32m----> 1\u001b[0;31m \u001b[0mfoo\u001b[0m\u001b[0;34m.\u001b[0m\u001b[0mbar\u001b[0m\u001b[0;34m(\u001b[0m\u001b[0;34m'hi'\u001b[0m\u001b[0;34m)\u001b[0m\u001b[0;34m\u001b[0m\u001b[0m\n\u001b[0m",
      "\u001b[0;31mAttributeError\u001b[0m: 'function' object has no attribute 'bar'"
     ]
    }
   ],
   "source": [
    "foo.bar('hi')"
   ]
  },
  {
   "cell_type": "code",
   "execution_count": null,
   "metadata": {
    "collapsed": true
   },
   "outputs": [],
   "source": []
  }
 ],
 "metadata": {
  "anaconda-cloud": {},
  "kernelspec": {
   "display_name": "Python 3",
   "language": "python",
   "name": "python3"
  },
  "language_info": {
   "codemirror_mode": {
    "name": "ipython",
    "version": 3
   },
   "file_extension": ".py",
   "mimetype": "text/x-python",
   "name": "python",
   "nbconvert_exporter": "python",
   "pygments_lexer": "ipython3",
   "version": "3.5.2"
  }
 },
 "nbformat": 4,
 "nbformat_minor": 0
}
