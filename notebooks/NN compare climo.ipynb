{
 "cells": [
  {
   "cell_type": "code",
   "execution_count": 11,
   "metadata": {
    "collapsed": false
   },
   "outputs": [
    {
     "data": {
      "image/png": "[encoded data removed]",
      "text/plain": [
       "<matplotlib.figure.Figure at 0x11c998198>"
      ]
     },
     "metadata": {},
     "output_type": "display_data"
    }
   ],
   "source": [
    "import numpy as np\n",
    "import scipy.io as sio\n",
    "import matplotlib.pyplot as plt\n",
    "%matplotlib inline\n",
    "\n",
    "experno= 'nowetconvection_abs1.0'\n",
    "exper1 = 'del1.2_abs1.0_T42'\n",
    "exper2 = 'neural_del1.2_abs1.0_T42'\n",
    "# exper2 = 'neural_del1.2_abs1.0_T42_1262016incomplete_run'\n",
    "# exper2 = 'neural_del1.2_abs1.0_T42_convonly_hotweird'\n",
    "\n",
    "# Define experiments\n",
    "dno = sio.loadmat('/Users/jgdwyer/mitbox/scripts/nn/data/' \\\n",
    "                            + experno + '_climo.mat')\n",
    "d1 = sio.loadmat('/Users/jgdwyer/mitbox/scripts/nn/data/' \\\n",
    "                            + exper1 + '_climo.mat')\n",
    "d2 = sio.loadmat('/Users/jgdwyer/mitbox/scripts/nn/data/' \\\n",
    "                            + exper2 + '_climo.mat')\n",
    "# Define levels for countour plots\n",
    "clev={'u0':np.linspace(-10,45,11),\n",
    "      'u1':np.linspace(-10,10,11),\n",
    "      't0':np.linspace(220,305,11),\n",
    "      't1':np.linspace(-5,5,11),\n",
    "      'w0':np.linspace(-1e-6,1e-6,11),\n",
    "      'w1':np.linspace(-1e-6,1e-6,11),\n",
    "      'q0':np.linspace(0,.02,11),\n",
    "      'q1':np.linspace(-.002,.002,11),\n",
    "      'r0':np.linspace(0,1,11),\n",
    "      'r1':np.linspace(-.3,.3,11),\n",
    "      's0':np.linspace(-2e11,2e11,11),\n",
    "      's1':np.linspace(-.6e11,.6e11,11),\n",
    "      'b0':np.linspace(0,.018,11),\n",
    "      'b1':np.linspace(-.003,.003,11),\n",
    "      'vq0':np.linspace(-.075,.075,11),\n",
    "      'vq1':np.linspace(-.045,.045,11),\n",
    "      'thetae0':np.linspace(280,350,11),\n",
    "      'thetae1':np.linspace(-10,10,11),\n",
    "      'thetaes0':np.linspace(280,350,11),\n",
    "      'thetaes1':np.linspace(-10,10,11)}\n",
    "lat = np.squeeze(d1['lat'])\n",
    "sigma = np.squeeze(d1['sigma'])\n",
    "#lat = np.concatenate((-np.flipud(lat),lat),axis=0)\n",
    "# Define dictionary of real variable names\n",
    "vname = {'t':'Temp. [K]','u':'u [m/s]','w':r'$\\omega$ [Pa/s]','q':'Humidity [kg/kg]',\n",
    "         'rhum_avg':'Relative Humidity','stream':'Streamfunction [kg/s]',\n",
    "         'buoyancy_freq':'Buoyancy Frequency [1/s]',\n",
    "         'vq':'Mrdnl Flux of Spec. Hum. [m/s]',\n",
    "         'theta_e':r'$\\theta_e$ [K]','theta_e_sat':r'$\\theta_e^*$ [K]'}\n",
    "\n",
    "def plt_cntr(lat, sigma, data, ax, levels=None, titstr='', cmap=None):\n",
    "    if cmap is None:\n",
    "        cmap = plt.cm.viridis\n",
    "    c=ax.contourf(lat, sigma, data, levels=levels, cmap=cmap)\n",
    "    plt.ylim(1,0)\n",
    "    #plt.xlim(0,90)\n",
    "    plt.colorbar(c, ax=ax, orientation='horizontal')\n",
    "    ax.set_title(titstr)\n",
    "    \n",
    "def plt_cntrs(var, lat, sigma, d1, d2, clev0, clev1, cmap0=None):\n",
    "    f,(ax1,ax2,ax3) = plt.subplots(1,3,sharex=True,sharey=True, figsize=(10,5))\n",
    "    plt_cntr(lat, sigma, d1[var].T, ax1, titstr=vname[var]+' standard', levels=clev0, cmap=cmap0)\n",
    "    plt_cntr(lat, sigma, d2[var].T, ax2, titstr=vname[var]+' neural', levels=clev0, cmap=cmap0)\n",
    "    plt_cntr(lat, sigma, d2[var].T - d1[var].T, ax3, titstr=vname[var]+' nrl-stndrd', \n",
    "             levels=clev1, cmap=plt.cm.BrBG)\n",
    "    plt.savefig('../figs/climo/'+ var + '.eps', bbox_inches='tight')\n",
    "    \n",
    "def plt_cntrs_withdry(var, lat, sigma, d1, d2, dno, clev0, clev1, cmap0=None):\n",
    "    f, axarr = plt.subplots(2,3,sharex=True,sharey=True, figsize=(10,5))\n",
    "    plt_cntr(lat, sigma, dno[var].T, axarr[0,0], titstr=vname[var]+' no conv', levels=clev0, cmap=cmap0)\n",
    "    plt_cntr(lat, sigma, d1[var].T, axarr[0,1], titstr=vname[var]+' standard', levels=clev0, cmap=cmap0)\n",
    "    plt_cntr(lat, sigma, d2[var].T, axarr[0,2], titstr=vname[var]+' neural', levels=clev0, cmap=cmap0)\n",
    "    # plot diffs\n",
    "    plt_cntr(lat, sigma, dno[var].T - d1[var].T, axarr[1,0], \n",
    "             titstr=vname[var]+' noconv-stndrd', levels=clev1, cmap=plt.cm.BrBG)\n",
    "    plt_cntr(lat, sigma, d2[var].T - d1[var].T,  axarr[1,2],\n",
    "             titstr=vname[var]+' nrl-stndrd', levels=clev1, cmap=plt.cm.BrBG)\n",
    "    axarr[1,1].axis('off')\n",
    "    plt.savefig('../figs/climo/'+ var + '_noconv.eps', bbox_inches='tight')\n",
    "    \n",
    "def plt_all_cntrs():\n",
    "    plt_cntrs_withdry('u', lat, sigma, d1, d2, dno, clev['u0'], clev['u1'])\n",
    "    plt_cntrs_withdry('t', lat, sigma, d1, d2, dno, clev['t0'], clev['t1'])\n",
    "    plt_cntrs_withdry('w', lat, sigma, d1, d2, dno, clev['w0'], clev['w1'])\n",
    "    plt_cntrs_withdry('q', lat, sigma, d1, d2, dno, clev['q0'], clev['q1'])\n",
    "    plt_cntrs_withdry('rhum_avg', lat, sigma, d1, d2, dno, clev['r0'], clev['r1'])\n",
    "    plt_cntrs_withdry('stream', lat, sigma, d1, d2, dno, clev['s0'], clev['s1'],cmap0=plt.cm.BrBG)\n",
    "    plt_cntrs_withdry('buoyancy_freq', lat, sigma, d1, d2, dno, clev['b0'], clev['b1'])\n",
    "    plt_cntrs_withdry('vq', lat, sigma, d1, d2, dno, clev['vq0'], clev['vq1'],cmap0=plt.cm.BrBG)\n",
    "    plt_cntrs_withdry('theta_e', lat, sigma, d1, d2, dno, clev['thetae0'], clev['thetae1'])\n",
    "    plt_cntrs_withdry('theta_e_sat', lat, sigma, d1, d2, dno, clev['thetaes0'], clev['thetaes1'])\n",
    "    \n",
    "def plt_precip(lat, d1, d2):\n",
    "    #f, ax = plt.figure(figsize=(10,5))\n",
    "    f, (ax1,ax2) = plt.subplots(1,2)\n",
    "    ax1.plot(lat, np.squeeze(d1['conv']), color='blue', ls='-', label='standard')\n",
    "    ax1.plot(lat, np.squeeze(d2['conv']), color='blue', ls='--', label='neural')\n",
    "    ax1.set_title('Convective Precipitation')\n",
    "#     plt.plot(lat, np.squeeze(d1['cond']), color='red',  ls='-', label='Cond (standard)')\n",
    "#     plt.plot(lat, np.squeeze(d2['cond']), color='red',  ls='--', label='Cond (neural)')\n",
    "    ax2.plot(lat, np.squeeze(d1['cond']+d1['conv']), color='k',  ls='-', label='standard')\n",
    "    ax2.plot(lat, np.squeeze(d2['cond']+d2['conv']), color='k',  ls='--', label='neural')\n",
    "    ax1.set_ylabel('Precip [mm/day]')\n",
    "    ax2.set_title('Total Precipitation')\n",
    "    for ax in [ax1, ax2]:\n",
    "        ax.set_xlabel('Latitude')\n",
    "        ax.set_xlim(-90,90)\n",
    "        ax.legend()\n",
    "#     plt.legend()\n",
    "    plt.savefig('../figs/climo/mean_precip.eps', bbox_inches='tight')\n",
    "    \n",
    "def plt_1d(lat, var, d1, d2, titstr, atsfc=False):\n",
    "    plt.figure()\n",
    "    v1=np.squeeze(d1[var])\n",
    "    v2=np.squeeze(d2[var])\n",
    "    if atsfc==True:\n",
    "        v1=v1[:,-1]\n",
    "        v2=v2[:,-1]\n",
    "    plt.plot(lat, v1, label = 'standard')\n",
    "    plt.plot(lat, v2, label = 'neural')\n",
    "    plt.title(titstr)\n",
    "    plt.xlim(-90,90)\n",
    "    plt.legend()\n",
    "    plt.savefig('../figs/climo/1d_'+var+'.eps', bbox_inches='tight')\n",
    "\n",
    "# Make contour plots\n",
    "# plt_cntrs('u', lat, sigma, d1, d2, clev['u0'], clev['u1'])\n",
    "# plt_cntrs('t', lat, sigma, d1, d2, clev['t0'], clev['t1'])\n",
    "# plt_cntrs('w', lat, sigma, d1, d2, clev['w0'], clev['w1'])\n",
    "# plt_cntrs('q', lat, sigma, d1, d2, clev['q0'], clev['q1'])\n",
    "# plt_cntrs('rhum_avg', lat, sigma, d1, d2, clev['r0'], clev['r1'])\n",
    "# plt_cntrs('stream', lat, sigma, d1, d2, clev['s0'], clev['s1'],cmap0=plt.cm.BrBG)\n",
    "# plt_cntrs('buoyancy_freq', lat, sigma, d1, d2, clev['b0'], clev['b1'])\n",
    "# plt_cntrs('vq', lat, sigma, d1, d2, clev['vq0'], clev['vq1'],cmap0=plt.cm.BrBG)\n",
    "# plt_cntrs('theta_e', lat, sigma, d1, d2, clev['thetae0'], clev['thetae1'])\n",
    "# plt_cntrs('theta_e_sat', lat, sigma, d1, d2, clev['thetaes0'], clev['thetaes1'])\n",
    "# plt_all_cntrs()\n",
    "\n",
    "# Make 1-d plots\n",
    "plt_precip(lat,d1,d2)\n",
    "# plt_1d(lat, 'conv', d1, d2, 'Convective Precip')\n",
    "# plt_1d(lat, 't', d1, d2, 'Sfc. Temp.',atsfc=True)\n",
    "# plt_1d(lat, 'u', d1, d2, 'Sfc. Zonal Wind',atsfc=True)\n",
    "# plt_1d(lat, 'cond_q999', d1, d2, '99.9% Cond Intnsty')\n",
    "# plt_1d(lat, 'conv_q999', d1, d2, '99.9% Conv Intnsty')\n",
    "\n",
    "def plt_vert(lev, var, d1, d2, titstr):\n",
    "    latind=32\n",
    "    plt.figure()\n",
    "    plt.plot(np.squeeze(d1[var][latind,:]), lev, color='blue', label = 'standard')\n",
    "    plt.plot(np.squeeze(d2[var][latind,:]), lev, color='green', label = 'neural')\n",
    "    plt.plot(np.squeeze(d1[var][latind-1,:]), lev, color='blue')\n",
    "    plt.plot(np.squeeze(d2[var][latind-1,:]), lev, color='green')\n",
    "    plt.ylim(1,0)\n",
    "    plt.ylabel(r'$\\sigma$')\n",
    "    plt.xlabel(vname[var])\n",
    "    plt.title(titstr)\n",
    "    plt.legend()\n",
    "    plt.savefig('../figs/climo/vert_'+var+'.eps', bbox_inches='tight')\n",
    "\n",
    "\n",
    "\n",
    "# plt_vert(sigma, 't', d1, d2, r'Vertical Profile at 1.4$^\\circ$')\n",
    "# plt_vert(sigma, 'rhum_avg', d1, d2, r'Vertical Profile at 1.4$^\\circ$')\n",
    "\n"
   ]
  },
  {
   "cell_type": "code",
   "execution_count": 13,
   "metadata": {
    "collapsed": false
   },
   "outputs": [
    {
     "data": {
      "text/plain": [
       "(0.0, 1.0, 0.0, 1.0)"
      ]
     },
     "execution_count": 13,
     "metadata": {},
     "output_type": "execute_result"
    },
    {
     "data": {
      "image/png": "[encoded data removed]",
      "text/plain": [
       "<matplotlib.figure.Figure at 0x1111bf208>"
      ]
     },
     "metadata": {},
     "output_type": "display_data"
    }
   ],
   "source": [
    "    f, axarr = plt.subplots(2,3,sharex=True,sharey=True, figsize=(10,5))\n",
    "axarr[0,0].axis('off')\n"
   ]
  },
  {
   "cell_type": "code",
   "execution_count": 5,
   "metadata": {
    "collapsed": true
   },
   "outputs": [],
   "source": [
    "plt.close()"
   ]
  },
  {
   "cell_type": "code",
   "execution_count": 14,
   "metadata": {
    "collapsed": false
   },
   "outputs": [
    {
     "name": "stdout",
     "output_type": "stream",
     "text": [
      "Object `axis` not found.\n"
     ]
    }
   ],
   "source": [
    "axarr[0,0].axis?"
   ]
  },
  {
   "cell_type": "code",
   "execution_count": null,
   "metadata": {
    "collapsed": true
   },
   "outputs": [],
   "source": [
    "axarr[0,0].axis"
   ]
  },
  {
   "cell_type": "code",
   "execution_count": 12,
   "metadata": {
    "collapsed": false
   },
   "outputs": [
    {
     "data": {
      "text/plain": [
       "(0.0, 1.0, 0.0, 1.0)"
      ]
     },
     "execution_count": 12,
     "metadata": {},
     "output_type": "execute_result"
    }
   ],
   "source": []
  },
  {
   "cell_type": "code",
   "execution_count": null,
   "metadata": {
    "collapsed": true
   },
   "outputs": [],
   "source": []
  }
 ],
 "metadata": {
  "kernelspec": {
   "display_name": "Python 3",
   "language": "python",
   "name": "python3"
  },
  "language_info": {
   "codemirror_mode": {
    "name": "ipython",
    "version": 3
   },
   "file_extension": ".py",
   "mimetype": "text/x-python",
   "name": "python",
   "nbconvert_exporter": "python",
   "pygments_lexer": "ipython3",
   "version": "3.5.2"
  }
 },
 "nbformat": 4,
 "nbformat_minor": 0
}
