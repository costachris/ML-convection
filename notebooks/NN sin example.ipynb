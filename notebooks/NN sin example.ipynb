{
 "cells": [
  {
   "cell_type": "code",
   "execution_count": 5,
   "metadata": {
    "collapsed": false
   },
   "outputs": [
    {
     "name": "stdout",
     "output_type": "stream",
     "text": [
      "Loss after iteration 0: 0.579537\n",
      "Loss after iteration 1: 0.157844\n",
      "Loss after iteration 2: 0.134165\n",
      "Loss after iteration 3: 0.109960\n",
      "Loss after iteration 4: 0.085048\n",
      "Loss after iteration 5: 0.059830\n",
      "Loss after iteration 6: 0.036326\n",
      "Loss after iteration 7: 0.019362\n",
      "Loss after iteration 8: 0.012829\n",
      "Loss after iteration 9: 0.011760\n",
      "Loss after iteration 5000: 0.001219\n",
      "Loss after iteration 10000: 0.001210\n",
      "Loss after iteration 15000: 0.001206\n",
      "Loss after iteration 20000: 0.001204\n",
      "Loss after iteration 25000: 0.001203\n",
      "Loss after iteration 30000: 0.001203\n",
      "Loss after iteration 35000: 0.001203\n",
      "Loss after iteration 40000: 0.001202\n",
      "Loss after iteration 45000: 0.001202\n",
      "Loss after iteration 50000: 0.001202\n",
      "Loss after iteration 55000: 0.001202\n",
      "Loss after iteration 60000: 0.001202\n",
      "Loss after iteration 65000: 0.001202\n",
      "Loss after iteration 70000: 0.001202\n",
      "Loss after iteration 75000: 0.001202\n",
      "Loss after iteration 80000: 0.001202\n",
      "Loss after iteration 85000: 0.001202\n",
      "Loss after iteration 90000: 0.001202\n",
      "Loss after iteration 95000: 0.001202\n"
     ]
    },
    {
     "data": {
      "image/png": "[encoded data removed]",
      "text/plain": [
       "<matplotlib.figure.Figure at 0x10ad50a58>"
      ]
     },
     "metadata": {},
     "output_type": "display_data"
    }
   ],
   "source": [
    "# %load sin.py\n",
    "import numpy as np\n",
    "import src.my_nn as mynn\n",
    "import matplotlib.pyplot as plt\n",
    "import matplotlib\n",
    "%matplotlib inline\n",
    "\n",
    "# Create x data for input and force to be be column vector\n",
    "x = np.linspace(0,2*np.pi,100)[:,None]\n",
    "#x2 = np.linspace(.9999,1,100)[:,None]\n",
    "#x = np.concatenate((x,x2),axis=1)\n",
    "# Create y data for output\n",
    "#y = x[:,1] * np.sin(x[:,0])\n",
    "#y=y[:,None]\n",
    "y=2+ np.cos(x) + np.random.rand(100,1)*0.4-0.2 + x\n",
    "\n",
    "# Normalize input and output\n",
    "xnorm, xmin, xmax = mynn.stdize(x)\n",
    "ynorm, ymin, ymax = mynn.norm(y)\n",
    "\n",
    "# Run the neural network\n",
    "hidden_neurons = 12\n",
    "num_loops = 10**5\n",
    "Yout, _ = mynn.run(xnorm, ynorm, hidden_neurons, print_loss=True, num_passes=num_loops)\n",
    "\n",
    "#Unnormalize model output\n",
    "y_train = mynn.unnorm(Yout, ymin, ymax)\n",
    "\n",
    "#Calculate error in real units\n",
    "rmse = np.sqrt(np.sum(np.square(y - y_train))/y.shape[0])\n",
    "\n",
    "#Make plot and give error in r\n",
    "plt.plot(x[:,0],y,label='sin(x)')\n",
    "plt.plot(x[:,0],y_train,label='NN')\n",
    "plt.title(('RMSE=%f for %d hidden neurons') %(rmse, hidden_neurons))\n",
    "plt.legend()\n",
    "plt.show()"
   ]
  },
  {
   "cell_type": "code",
   "execution_count": null,
   "metadata": {
    "collapsed": true
   },
   "outputs": [],
   "source": []
  }
 ],
 "metadata": {
  "kernelspec": {
   "display_name": "Python 3",
   "language": "python",
   "name": "python3"
  },
  "language_info": {
   "codemirror_mode": {
    "name": "ipython",
    "version": 3
   },
   "file_extension": ".py",
   "mimetype": "text/x-python",
   "name": "python",
   "nbconvert_exporter": "python",
   "pygments_lexer": "ipython3",
   "version": "3.5.2"
  }
 },
 "nbformat": 4,
 "nbformat_minor": 0
}
