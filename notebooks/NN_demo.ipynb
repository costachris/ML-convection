{
 "cells": [
  {
   "cell_type": "code",
   "execution_count": null,
   "metadata": {
    "collapsed": true
   },
   "outputs": [],
   "source": [
    "import numpy as np\n",
    "from netCDF4 import Dataset\n",
    "import matplotlib as mpl\n",
    "import matplotlib.pylab as pylab\n",
    "import matplotlib.pyplot as plt\n",
    "import os\n",
    "from sklearn import preprocessing, metrics\n",
    "from importlib import reload\n",
    "import sknn.mlp\n",
    "import pickle\n",
    "%matplotlib inline\n",
    "pylab.rcParams['figure.figsize'] = (10, 6)\n",
    "inline_rc = dict(mpl.rcParams)\n",
    "import src.nnload as nnload\n",
    "import src.nntrain as nntrain\n",
    "import src.nnplot as nnplot\n"
   ]
  },
  {
   "cell_type": "markdown",
   "metadata": {},
   "source": [
    "### Load data for training and cross-validation"
   ]
  },
  {
   "cell_type": "code",
   "execution_count": null,
   "metadata": {
    "collapsed": true
   },
   "outputs": [],
   "source": [
    "# Set script parameters\n",
    "minlev = 0.25  # The top level of the atmosphere to consider.\n",
    "rainonly = False\n",
    "write_nn_to_netcdf = False # Option for writing neural network as a netcdf file\n",
    "\n",
    "reload(nnload)\n",
    "x, y, cv, Pout, lat, lev, dlev, timestep = nnload.loaddata('./data/convection_50day.pkl', \n",
    "                            minlev, all_lats=True, indlat=None, rainonly=False, noshallow=True)\n",
    "# SHOW INPUT HISTOGRAM HERE TO GET A FEEL FOR DATAhy"
   ]
  },
  {
   "cell_type": "markdown",
   "metadata": {},
   "source": [
    "### Preprocess Data"
   ]
  },
  {
   "cell_type": "code",
   "execution_count": null,
   "metadata": {
    "collapsed": true
   },
   "outputs": [],
   "source": [
    "# Show this explicitly\n",
    "x_pp = nnload.init_pp(x_ppi, x)\n",
    "x    = nnload.transform_data(x_ppi, x_pp, x)\n",
    "y_pp = nnload.init_pp(y_ppi, y)\n",
    "y    = nnload.transform_data(y_ppi, y_pp, y)\n",
    "# Make preprocessor string for saving\n",
    "pp_str =          'X-' + x_ppi['name'] + '-' + x_ppi['method'][:6] + '_'\n",
    "pp_str = pp_str + 'Y-' + y_ppi['name'] + '-' + y_ppi['method'][:6] + '_'"
   ]
  },
  {
   "cell_type": "markdown",
   "metadata": {},
   "source": [
    "### Build Neural Network"
   ]
  },
  {
   "cell_type": "code",
   "execution_count": null,
   "metadata": {
    "collapsed": true
   },
   "outputs": [],
   "source": [
    "# Show this explicitly\n",
    "r_mlp, r_str = build_nn('regress', num_layers, 'Rectifier', hidneur,\n",
    "                            'momentum', pp_str, batch_size=100,n_stable=n_stable,n_iter=n_iter,\n",
    "                            learning_momentum=0.9,learning_rate=0.01,f_stable=.0007,\n",
    "                            regularize=regularize, weight_decay=weight_decay)\n",
    "print(r_str + ' Using ' + str(x.shape[0]) + ' training examples with ' + str(x.shape[1]) + \\\n",
    "          ' input features and ' + str(y.shape[1]) + ' output targets')\n",
    "# Train neural network\n",
    "r_mlp, r_errors = train_nn(r_mlp, r_str, x1, y1, w)\n",
    "# Save neural network\n",
    "pickle.dump([r_mlp, r_str, r_errors, x_ppi, y_ppi, x_pp, y_pp, lat, lev, dlev],\n",
    "            open('./data/regressors/' + r_str + '.pkl', 'wb'))\n"
   ]
  },
  {
   "cell_type": "markdown",
   "metadata": {},
   "source": [
    "### Plot figures"
   ]
  },
  {
   "cell_type": "code",
   "execution_count": null,
   "metadata": {
    "collapsed": true
   },
   "outputs": [],
   "source": [
    "# SHOW EXPLICITLY\n",
    "# with validation data\n",
    "nnplot.plot_all_figs(r_str)\n",
    "nnplot.plot_all_figs(r_str, datasource='./data/convection_50day.pkl', validation=False)"
   ]
  }
 ],
 "metadata": {
  "kernelspec": {
   "display_name": "Python 3",
   "language": "python",
   "name": "python3"
  },
  "language_info": {
   "codemirror_mode": {
    "name": "ipython",
    "version": 3
   },
   "file_extension": ".py",
   "mimetype": "text/x-python",
   "name": "python",
   "nbconvert_exporter": "python",
   "pygments_lexer": "ipython3",
   "version": "3.5.2"
  }
 },
 "nbformat": 4,
 "nbformat_minor": 0
}
